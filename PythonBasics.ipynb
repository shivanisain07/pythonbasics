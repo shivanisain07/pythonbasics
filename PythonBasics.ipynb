{
  "nbformat": 4,
  "nbformat_minor": 0,
  "metadata": {
    "colab": {
      "provenance": []
    },
    "kernelspec": {
      "name": "python3",
      "display_name": "Python 3"
    },
    "language_info": {
      "name": "python"
    }
  },
  "cells": [
    {
      "cell_type": "markdown",
      "source": [
        "1. What is Python, and why is it popular?\n",
        "  \n",
        "  - Python is a widely used programming language througout the world. It is a way how we can commmunicate with the computer and enable the machine to work on the commands provided by the user. It can be aslo said as the set of specific rules which we can use to give constructions to the computer.\n",
        "\n",
        "  - It is extensively used throughout the world, generally in the areas of data science, machine learning, web development etc, because of several reasons:\n",
        "    1. easy to understand.\n",
        "    2. It has a lot of libraries, which can be used by any python programmer in any part of the world.\n",
        "    3. More versatile than other programming languages.\n",
        "    4. Huge active community.\n",
        "\n",
        "\n",
        "2. What is an interpreter in Python?\n",
        "  \n",
        "  - In different programming languages there is a complier or interpreter. In python, there is interpreter which basically reads or executes the program you have written line by line. Compiler does it full at a time.\n",
        "\n",
        "\n",
        "3. What are pre-defined keywords in Python?\n",
        "   \n",
        "  - Pre-defined keywords are the words or special meanings which have a special purpose. for example, input ( used to input something) . there are several keyword in python such as: input, print, type, if, or, else etc.\n",
        "\n",
        "4. Can keywords be used as variable names?\n",
        "  \n",
        "  - No, keywords can not be used as a variable in the program. Although we can use but after using it a s a varibale, it will lost the significance of its purpose. for example, if i used input for assigning any value, then it will no longer be doing it's function of input something to the program. Hence, preferred not to use keywords as variables.\n",
        "\n",
        "5. What is mutability in Python?\n",
        "\n",
        "  - Mutability can be defined as objects or container, in which we can change the values after creating it. In python, list is a type of mutable objcet.\n",
        "  syntax for list is:\n",
        "   List = [ 1, 2, \" Name\", 3.45,]\n",
        "\n",
        "6. Why are lists mutable, but tuples are immutable?\n",
        "\n",
        "  - List is a container which can be changed after creating it. Tuple can not change its value after creating it. The main reason lies is, tuples are basically more memeory-efficeint as comapred to list.\n",
        "\n",
        "7. What is the difference between “==” and “is” operators in Python?\n",
        "\n",
        "  - Both are the types of operator and has different functions. \"==\" is a comparison operator, which is used to compare the values and after that return a boolean value. such as,\n",
        "     A == A\n",
        "\n",
        "  - \"is\" is an identify operator which compares the location of two values in the memory and returns the boolean value. such as,\n",
        "      a=2\n",
        "      b=a\n",
        "      a is b\n",
        "      true\n",
        "\n",
        "8. What are logical operators in Python?\n",
        "\n",
        "  - Logical operators are type of operatores which are used to combine multiple conditions together and evaluate them aa a single boolean expression. There are two types of logical opertaors. AND, OR. AND can show TRUE value only if both the expressions are TRUE, anyways it will show FALSE. OR shows TRUE value\n",
        "  if one of the statements present is TRUE.\n",
        "\n",
        "9. What is type casting in Python?\n",
        "\n",
        "  - Type casting is a process of changing the data type of any value. Here, we can change the float into integer, an integer into float and a string into interger or float too but if it contains numbers only. Characters can not be type casted.\n",
        "\n",
        "10. What is the difference between implicit and explicit type casting?\n",
        "\n",
        " - Implicit type casting is a process which is done automatically. Python easily understands the value provided to it, if do not have to define the type of the value.\n",
        " - Explicit type casting is a process which is done by the programmer itslef. Programmer has to define the type of the value in the program itself. such as in C++ etc.\n",
        "\n",
        "11.  What is the purpose of conditional statements in Python?\n",
        "\n",
        " - Conditional statements are used to apply the condition to the program to which the program has to be executed. It helps the coder to code decisions. It can be used to control the flow of the program. In python, there are four conditional statements, if, else, if elif else, nested if-else.\n",
        "\n",
        "12. How does the elif statement work?\n",
        "\n",
        " - elif statement is defined as else if staetement in pyhton. It can be used to check the multiple conditions in the program. if the first condition is false, the interpreter will not execute the statement, it will jump into the next elif statement and if it is also false it will again jump to the other elif statement and finally to the else statement.\n",
        "\n",
        "13. What is the difference between for and while loops?\n",
        "\n",
        " - for and while are used in the loop statements. for is used for repitition of the code for a known number of times. if the statement gets false, it will go out the loop.  while is used for chechking the multiple coditions in unkonown number of times, until the condition is fulfilled.\n",
        "\n",
        "14. Describe a scenario where a while loop is more suitable than a for loop?\n",
        "\n",
        " - A situtaion where we are not aware about the number of iterations but rather we are only provided with a certain condition. Such as, number of students in the school who have their names \"ROHIT\"\n",
        "\n",
        ""
      ],
      "metadata": {
        "id": "qE8dwsgEjfud"
      }
    },
    {
      "cell_type": "code",
      "execution_count": 1,
      "metadata": {
        "colab": {
          "base_uri": "https://localhost:8080/"
        },
        "id": "p4an8PocjKLG",
        "outputId": "acccbd66-6513-4f5f-b3d1-2cbad3a00629"
      },
      "outputs": [
        {
          "output_type": "stream",
          "name": "stdout",
          "text": [
            "Hello World\n"
          ]
        }
      ],
      "source": [
        "# 1. Write a Python program to print \"Hello, World!\n",
        "\n",
        "print(\"Hello World\")"
      ]
    },
    {
      "cell_type": "code",
      "source": [
        "# 2. Write a Python program that displays your name and age\n",
        "\n",
        "print(\" Shivani\")\n",
        "print(\"23\")"
      ],
      "metadata": {
        "colab": {
          "base_uri": "https://localhost:8080/"
        },
        "id": "fcXIKuF_0JAO",
        "outputId": "7aae83a5-7154-4a73-8dad-9d6e3ecf72d2"
      },
      "execution_count": 2,
      "outputs": [
        {
          "output_type": "stream",
          "name": "stdout",
          "text": [
            " Shivani\n",
            "23\n"
          ]
        }
      ]
    },
    {
      "cell_type": "code",
      "source": [
        "# 3. Write code to print all the pre-defined keywords in Python using the keyword library?\n",
        "\n",
        "library= help('keywords')\n",
        "print (\"library\")"
      ],
      "metadata": {
        "colab": {
          "base_uri": "https://localhost:8080/"
        },
        "id": "05egAa4a0c1n",
        "outputId": "6e998106-d5dd-4edc-c836-78afcb666657"
      },
      "execution_count": 4,
      "outputs": [
        {
          "output_type": "stream",
          "name": "stdout",
          "text": [
            "\n",
            "Here is a list of the Python keywords.  Enter any keyword to get more help.\n",
            "\n",
            "False               class               from                or\n",
            "None                continue            global              pass\n",
            "True                def                 if                  raise\n",
            "and                 del                 import              return\n",
            "as                  elif                in                  try\n",
            "assert              else                is                  while\n",
            "async               except              lambda              with\n",
            "await               finally             nonlocal            yield\n",
            "break               for                 not                 \n",
            "\n",
            "library\n"
          ]
        }
      ]
    },
    {
      "cell_type": "code",
      "source": [
        "# 4. Write a program that checks if a given word is a Python keyword\n",
        "\n",
        "a = input('Enter a word')\n",
        "\n",
        "if keyword.iskeyword(a):\n",
        "    print(f\"'{a}' is a Python keyword.\")\n",
        "else:\n",
        "    print(f\"'{a}' is not a Python keyword.\")"
      ],
      "metadata": {
        "colab": {
          "base_uri": "https://localhost:8080/"
        },
        "id": "sShVg2bd0-1c",
        "outputId": "fe605a1d-21d9-4cd4-aef8-049f5724dda9"
      },
      "execution_count": 16,
      "outputs": [
        {
          "output_type": "stream",
          "name": "stdout",
          "text": [
            "Enter a wordif\n",
            "'if' is a Python keyword.\n"
          ]
        }
      ]
    },
    {
      "cell_type": "code",
      "source": [
        "# 5. Create a list and tuple in Python, and demonstrate how attempting to change an element works differently\n",
        "\n",
        "liist = [ 1, 2, 'apple', 56.7, 'banana', 'orange']\n",
        "liist[3] = 'strawberry'\n",
        "print(liist)\n"
      ],
      "metadata": {
        "colab": {
          "base_uri": "https://localhost:8080/"
        },
        "id": "lumz4J_c3_Hr",
        "outputId": "e33c9c42-e108-4a92-b835-276344785c4e"
      },
      "execution_count": 21,
      "outputs": [
        {
          "output_type": "stream",
          "name": "stdout",
          "text": [
            "[1, 2, 'apple', 'strawberry', 'banana', 'orange']\n"
          ]
        }
      ]
    },
    {
      "cell_type": "code",
      "source": [
        "# 6. Write a function to demonstrate the behavior of mutable and immutable arguments\n",
        "\n",
        "\n",
        "tuple1 = (0, 1, 2, 3)\n",
        "tuple1[0] = 4\n",
        "print(tuple1)"
      ],
      "metadata": {
        "colab": {
          "base_uri": "https://localhost:8080/",
          "height": 193
        },
        "id": "FYMj1f7n48Q8",
        "outputId": "5e0c16f3-ab4f-40e3-a790-65ebaddd683c"
      },
      "execution_count": 22,
      "outputs": [
        {
          "output_type": "error",
          "ename": "TypeError",
          "evalue": "'tuple' object does not support item assignment",
          "traceback": [
            "\u001b[0;31m---------------------------------------------------------------------------\u001b[0m",
            "\u001b[0;31mTypeError\u001b[0m                                 Traceback (most recent call last)",
            "\u001b[0;32m<ipython-input-22-cd5fa739526b>\u001b[0m in \u001b[0;36m<cell line: 5>\u001b[0;34m()\u001b[0m\n\u001b[1;32m      3\u001b[0m \u001b[0;34m\u001b[0m\u001b[0m\n\u001b[1;32m      4\u001b[0m \u001b[0mtuple1\u001b[0m \u001b[0;34m=\u001b[0m \u001b[0;34m(\u001b[0m\u001b[0;36m0\u001b[0m\u001b[0;34m,\u001b[0m \u001b[0;36m1\u001b[0m\u001b[0;34m,\u001b[0m \u001b[0;36m2\u001b[0m\u001b[0;34m,\u001b[0m \u001b[0;36m3\u001b[0m\u001b[0;34m)\u001b[0m\u001b[0;34m\u001b[0m\u001b[0;34m\u001b[0m\u001b[0m\n\u001b[0;32m----> 5\u001b[0;31m \u001b[0mtuple1\u001b[0m\u001b[0;34m[\u001b[0m\u001b[0;36m0\u001b[0m\u001b[0;34m]\u001b[0m \u001b[0;34m=\u001b[0m \u001b[0;36m4\u001b[0m\u001b[0;34m\u001b[0m\u001b[0;34m\u001b[0m\u001b[0m\n\u001b[0m\u001b[1;32m      6\u001b[0m \u001b[0mprint\u001b[0m\u001b[0;34m(\u001b[0m\u001b[0mtuple1\u001b[0m\u001b[0;34m)\u001b[0m\u001b[0;34m\u001b[0m\u001b[0;34m\u001b[0m\u001b[0m\n",
            "\u001b[0;31mTypeError\u001b[0m: 'tuple' object does not support item assignment"
          ]
        }
      ]
    },
    {
      "cell_type": "code",
      "source": [
        "# 7. Write a function to demonstrate the behavior of mutable and immutable arguments\n",
        "\n",
        "list0 =[\"apple\", \"banana\", 2, 3, 5, 64.3]\n",
        "list0[3] = \"strawberry\"\n",
        "print(list0)"
      ],
      "metadata": {
        "colab": {
          "base_uri": "https://localhost:8080/"
        },
        "id": "FsIbOuOB6SWs",
        "outputId": "424b8674-4f73-492f-e038-cec38cfd7c79"
      },
      "execution_count": 23,
      "outputs": [
        {
          "output_type": "stream",
          "name": "stdout",
          "text": [
            "['apple', 'banana', 2, 'strawberry', 5, 64.3]\n"
          ]
        }
      ]
    },
    {
      "cell_type": "code",
      "source": [
        "# 8. Write a program to demonstrate the use of logical operators\n",
        "\n",
        "# for testing AND first\n",
        "a = 10\n",
        "b = 10\n",
        "print((a>5) and (b<5))\n",
        "\n",
        "# for testing or\n",
        "\n",
        "print((a>5) or (b>5))"
      ],
      "metadata": {
        "colab": {
          "base_uri": "https://localhost:8080/"
        },
        "id": "lO1agWrb66j5",
        "outputId": "564675ec-629d-4744-c5c0-f547bad4415d"
      },
      "execution_count": 34,
      "outputs": [
        {
          "output_type": "stream",
          "name": "stdout",
          "text": [
            "False\n",
            "True\n"
          ]
        }
      ]
    },
    {
      "cell_type": "code",
      "source": [
        "# 9. Write a Python program to convert user input from string to integer, float, and boolean types\n",
        "\n",
        "a = '4'\n",
        "print(type(a))\n",
        "print( int(a))\n",
        "print(bool(a))\n",
        "print(float(a))\n",
        "\n"
      ],
      "metadata": {
        "colab": {
          "base_uri": "https://localhost:8080/"
        },
        "id": "Pfa8He-I9e2m",
        "outputId": "9f648423-e398-461d-cd24-604ab4904c2d"
      },
      "execution_count": 39,
      "outputs": [
        {
          "output_type": "stream",
          "name": "stdout",
          "text": [
            "<class 'str'>\n",
            "4\n",
            "True\n",
            "4.0\n"
          ]
        }
      ]
    },
    {
      "cell_type": "code",
      "source": [
        "# 10. Write code to demonstrate type casting with list elements\n",
        "\n",
        "list1 =[ 'apple', 'banana', 1, 2, 45, 6 ]\n",
        "print(\"original list is\", list1)\n",
        "list1[3] = str(list1[3])\n",
        "print(list1)"
      ],
      "metadata": {
        "colab": {
          "base_uri": "https://localhost:8080/"
        },
        "id": "Dn8Cdxys-mGY",
        "outputId": "f65efc2e-f056-4db2-aa39-579ffbb5e52a"
      },
      "execution_count": 45,
      "outputs": [
        {
          "output_type": "stream",
          "name": "stdout",
          "text": [
            "original list is ['apple', 'banana', 1, 2, 45, 6]\n",
            "['apple', 'banana', 1, '2', 45, 6]\n"
          ]
        }
      ]
    },
    {
      "cell_type": "code",
      "source": [
        "# 11. Write a program that checks if a number is positive, negative, or zero\n",
        "\n",
        "num = int(input(\"Enter a number: \"))\n",
        "if num > 0:\n",
        "   print(\"Positive number\")\n",
        "elif num == 0:\n",
        "   print(\"Zero\")\n",
        "else:\n",
        "   print(\"Negative number\")"
      ],
      "metadata": {
        "colab": {
          "base_uri": "https://localhost:8080/"
        },
        "id": "Rz6mBxAD_1H_",
        "outputId": "d07d6396-2ce2-4bbd-9d09-d69c079163cf"
      },
      "execution_count": 47,
      "outputs": [
        {
          "output_type": "stream",
          "name": "stdout",
          "text": [
            "Enter a number: 57\n",
            "Positive number\n"
          ]
        }
      ]
    },
    {
      "cell_type": "code",
      "source": [
        "# 12. Write a for loop to print numbers from 1 to 100\n",
        "\n",
        "a = 1\n",
        "while a<=100:\n",
        "   print(a)\n",
        "   a= a+1\n",
        ""
      ],
      "metadata": {
        "colab": {
          "base_uri": "https://localhost:8080/"
        },
        "id": "V2Huhwe1Ac1L",
        "outputId": "f0ea7b6f-ff0d-4cb2-c448-9cd7215b7814"
      },
      "execution_count": 54,
      "outputs": [
        {
          "output_type": "stream",
          "name": "stdout",
          "text": [
            "1\n",
            "2\n",
            "3\n",
            "4\n",
            "5\n",
            "6\n",
            "7\n",
            "8\n",
            "9\n",
            "10\n",
            "11\n",
            "12\n",
            "13\n",
            "14\n",
            "15\n",
            "16\n",
            "17\n",
            "18\n",
            "19\n",
            "20\n",
            "21\n",
            "22\n",
            "23\n",
            "24\n",
            "25\n",
            "26\n",
            "27\n",
            "28\n",
            "29\n",
            "30\n",
            "31\n",
            "32\n",
            "33\n",
            "34\n",
            "35\n",
            "36\n",
            "37\n",
            "38\n",
            "39\n",
            "40\n",
            "41\n",
            "42\n",
            "43\n",
            "44\n",
            "45\n",
            "46\n",
            "47\n",
            "48\n",
            "49\n",
            "50\n",
            "51\n",
            "52\n",
            "53\n",
            "54\n",
            "55\n",
            "56\n",
            "57\n",
            "58\n",
            "59\n",
            "60\n",
            "61\n",
            "62\n",
            "63\n",
            "64\n",
            "65\n",
            "66\n",
            "67\n",
            "68\n",
            "69\n",
            "70\n",
            "71\n",
            "72\n",
            "73\n",
            "74\n",
            "75\n",
            "76\n",
            "77\n",
            "78\n",
            "79\n",
            "80\n",
            "81\n",
            "82\n",
            "83\n",
            "84\n",
            "85\n",
            "86\n",
            "87\n",
            "88\n",
            "89\n",
            "90\n",
            "91\n",
            "92\n",
            "93\n",
            "94\n",
            "95\n",
            "96\n",
            "97\n",
            "98\n",
            "99\n",
            "100\n"
          ]
        }
      ]
    },
    {
      "cell_type": "code",
      "source": [
        "# 13. Write a Python program to find the sum of all even numbers between 1 and 500\n",
        "\n",
        "sum=0\n",
        "a = 1\n",
        "while a <= 500:\n",
        "    if a % 2 == 0:\n",
        "        print(a)\n",
        "        sum+=a\n",
        "    a+=1\n",
        "print(f\"Sum of all the even numbers is {sum}\")\n",
        "\n"
      ],
      "metadata": {
        "colab": {
          "base_uri": "https://localhost:8080/"
        },
        "id": "tZ2_jsH3BU4l",
        "outputId": "e8b6445d-0fc0-4c9d-fd8d-a81f7055a151"
      },
      "execution_count": 70,
      "outputs": [
        {
          "output_type": "stream",
          "name": "stdout",
          "text": [
            "2\n",
            "4\n",
            "6\n",
            "8\n",
            "10\n",
            "12\n",
            "14\n",
            "16\n",
            "18\n",
            "20\n",
            "22\n",
            "24\n",
            "26\n",
            "28\n",
            "30\n",
            "32\n",
            "34\n",
            "36\n",
            "38\n",
            "40\n",
            "42\n",
            "44\n",
            "46\n",
            "48\n",
            "50\n",
            "52\n",
            "54\n",
            "56\n",
            "58\n",
            "60\n",
            "62\n",
            "64\n",
            "66\n",
            "68\n",
            "70\n",
            "72\n",
            "74\n",
            "76\n",
            "78\n",
            "80\n",
            "82\n",
            "84\n",
            "86\n",
            "88\n",
            "90\n",
            "92\n",
            "94\n",
            "96\n",
            "98\n",
            "100\n",
            "102\n",
            "104\n",
            "106\n",
            "108\n",
            "110\n",
            "112\n",
            "114\n",
            "116\n",
            "118\n",
            "120\n",
            "122\n",
            "124\n",
            "126\n",
            "128\n",
            "130\n",
            "132\n",
            "134\n",
            "136\n",
            "138\n",
            "140\n",
            "142\n",
            "144\n",
            "146\n",
            "148\n",
            "150\n",
            "152\n",
            "154\n",
            "156\n",
            "158\n",
            "160\n",
            "162\n",
            "164\n",
            "166\n",
            "168\n",
            "170\n",
            "172\n",
            "174\n",
            "176\n",
            "178\n",
            "180\n",
            "182\n",
            "184\n",
            "186\n",
            "188\n",
            "190\n",
            "192\n",
            "194\n",
            "196\n",
            "198\n",
            "200\n",
            "202\n",
            "204\n",
            "206\n",
            "208\n",
            "210\n",
            "212\n",
            "214\n",
            "216\n",
            "218\n",
            "220\n",
            "222\n",
            "224\n",
            "226\n",
            "228\n",
            "230\n",
            "232\n",
            "234\n",
            "236\n",
            "238\n",
            "240\n",
            "242\n",
            "244\n",
            "246\n",
            "248\n",
            "250\n",
            "252\n",
            "254\n",
            "256\n",
            "258\n",
            "260\n",
            "262\n",
            "264\n",
            "266\n",
            "268\n",
            "270\n",
            "272\n",
            "274\n",
            "276\n",
            "278\n",
            "280\n",
            "282\n",
            "284\n",
            "286\n",
            "288\n",
            "290\n",
            "292\n",
            "294\n",
            "296\n",
            "298\n",
            "300\n",
            "302\n",
            "304\n",
            "306\n",
            "308\n",
            "310\n",
            "312\n",
            "314\n",
            "316\n",
            "318\n",
            "320\n",
            "322\n",
            "324\n",
            "326\n",
            "328\n",
            "330\n",
            "332\n",
            "334\n",
            "336\n",
            "338\n",
            "340\n",
            "342\n",
            "344\n",
            "346\n",
            "348\n",
            "350\n",
            "352\n",
            "354\n",
            "356\n",
            "358\n",
            "360\n",
            "362\n",
            "364\n",
            "366\n",
            "368\n",
            "370\n",
            "372\n",
            "374\n",
            "376\n",
            "378\n",
            "380\n",
            "382\n",
            "384\n",
            "386\n",
            "388\n",
            "390\n",
            "392\n",
            "394\n",
            "396\n",
            "398\n",
            "400\n",
            "402\n",
            "404\n",
            "406\n",
            "408\n",
            "410\n",
            "412\n",
            "414\n",
            "416\n",
            "418\n",
            "420\n",
            "422\n",
            "424\n",
            "426\n",
            "428\n",
            "430\n",
            "432\n",
            "434\n",
            "436\n",
            "438\n",
            "440\n",
            "442\n",
            "444\n",
            "446\n",
            "448\n",
            "450\n",
            "452\n",
            "454\n",
            "456\n",
            "458\n",
            "460\n",
            "462\n",
            "464\n",
            "466\n",
            "468\n",
            "470\n",
            "472\n",
            "474\n",
            "476\n",
            "478\n",
            "480\n",
            "482\n",
            "484\n",
            "486\n",
            "488\n",
            "490\n",
            "492\n",
            "494\n",
            "496\n",
            "498\n",
            "500\n",
            "Sum of all the even numbers is 62750\n"
          ]
        }
      ]
    },
    {
      "cell_type": "code",
      "source": [
        "# 14. Write a program to reverse a string using a while loop\n",
        "\n",
        "name= str((input(\"Enter the name: \")))\n",
        "\n",
        "i = len(name)\n",
        "\n",
        "while i in range(len(name)) > 0:\n",
        "    print(name[i], end = '')\n",
        "    i = i - 1\n",
        "\n"
      ],
      "metadata": {
        "colab": {
          "base_uri": "https://localhost:8080/"
        },
        "id": "_O2vi8brEmfW",
        "outputId": "97527eb3-d745-4ffe-852e-420cc7195586"
      },
      "execution_count": 85,
      "outputs": [
        {
          "name": "stdout",
          "output_type": "stream",
          "text": [
            "Enter the name: strawberry\n"
          ]
        }
      ]
    },
    {
      "cell_type": "code",
      "source": [
        "# 15. Write a Python program to calculate the factorial of a number provided by the user using a while loop.\n",
        "\n",
        "\n",
        "fact = 1\n",
        "i = 1\n",
        "\n",
        "num = int(input(\"Enter a number: \"))\n",
        "while i <= num:\n",
        "        fact = fact*i\n",
        "        i = i + 1\n",
        "print(\"The factorial of\", num, \"is\", fact)"
      ],
      "metadata": {
        "colab": {
          "base_uri": "https://localhost:8080/"
        },
        "id": "rOIC_rC4GQQE",
        "outputId": "c8f1a816-39fe-4938-cb19-98811c28f50a"
      },
      "execution_count": 84,
      "outputs": [
        {
          "output_type": "stream",
          "name": "stdout",
          "text": [
            "Enter a number: 40\n",
            "The factorial of 40 is 815915283247897734345611269596115894272000000000\n"
          ]
        }
      ]
    }
  ]
}